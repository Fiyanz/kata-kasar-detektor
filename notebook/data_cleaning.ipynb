{
  "nbformat": 4,
  "nbformat_minor": 0,
  "metadata": {
    "colab": {
      "provenance": []
    },
    "kernelspec": {
      "name": "python3",
      "display_name": "Python 3"
    },
    "language_info": {
      "name": "python"
    }
  },
  "cells": [
    {
      "cell_type": "code",
      "execution_count": null,
      "metadata": {
        "colab": {
          "base_uri": "https://localhost:8080/"
        },
        "id": "ml-HjTKx2Cby",
        "outputId": "05215eb7-0434-4ab0-fa6d-92bec8cd74b9"
      },
      "outputs": [
        {
          "output_type": "stream",
          "name": "stdout",
          "text": [
            "✅ Library siap digunakan.\n"
          ]
        }
      ],
      "source": [
        "# Sel 1: Import Library\n",
        "import pandas as pd\n",
        "import re\n",
        "from google.colab import files\n",
        "\n",
        "print(\"✅ Library siap digunakan.\")"
      ]
    },
    {
      "cell_type": "code",
      "source": [
        "# Sel 2: Unggah File\n",
        "print(\"Silakan unggah file 'indonesian_chat.csv' Anda...\")\n",
        "uploaded = files.upload()\n",
        "\n",
        "# Menyimpan nama file yang diunggah untuk digunakan di sel berikutnya\n",
        "nama_file_input = list(uploaded.keys())[0]\n",
        "print(f\"\\n✅ File '{nama_file_input}' berhasil diunggah.\")"
      ],
      "metadata": {
        "colab": {
          "base_uri": "https://localhost:8080/",
          "height": 125
        },
        "id": "xPoRPm082P_f",
        "outputId": "fc91010e-266f-4dc4-b5f7-19b867524514"
      },
      "execution_count": null,
      "outputs": [
        {
          "output_type": "stream",
          "name": "stdout",
          "text": [
            "Silakan unggah file 'indonesian_chat.csv' Anda...\n"
          ]
        },
        {
          "output_type": "display_data",
          "data": {
            "text/plain": [
              "<IPython.core.display.HTML object>"
            ],
            "text/html": [
              "\n",
              "     <input type=\"file\" id=\"files-79d45635-9acf-4d74-9079-6939977701a4\" name=\"files[]\" multiple disabled\n",
              "        style=\"border:none\" />\n",
              "     <output id=\"result-79d45635-9acf-4d74-9079-6939977701a4\">\n",
              "      Upload widget is only available when the cell has been executed in the\n",
              "      current browser session. Please rerun this cell to enable.\n",
              "      </output>\n",
              "      <script>// Copyright 2017 Google LLC\n",
              "//\n",
              "// Licensed under the Apache License, Version 2.0 (the \"License\");\n",
              "// you may not use this file except in compliance with the License.\n",
              "// You may obtain a copy of the License at\n",
              "//\n",
              "//      http://www.apache.org/licenses/LICENSE-2.0\n",
              "//\n",
              "// Unless required by applicable law or agreed to in writing, software\n",
              "// distributed under the License is distributed on an \"AS IS\" BASIS,\n",
              "// WITHOUT WARRANTIES OR CONDITIONS OF ANY KIND, either express or implied.\n",
              "// See the License for the specific language governing permissions and\n",
              "// limitations under the License.\n",
              "\n",
              "/**\n",
              " * @fileoverview Helpers for google.colab Python module.\n",
              " */\n",
              "(function(scope) {\n",
              "function span(text, styleAttributes = {}) {\n",
              "  const element = document.createElement('span');\n",
              "  element.textContent = text;\n",
              "  for (const key of Object.keys(styleAttributes)) {\n",
              "    element.style[key] = styleAttributes[key];\n",
              "  }\n",
              "  return element;\n",
              "}\n",
              "\n",
              "// Max number of bytes which will be uploaded at a time.\n",
              "const MAX_PAYLOAD_SIZE = 100 * 1024;\n",
              "\n",
              "function _uploadFiles(inputId, outputId) {\n",
              "  const steps = uploadFilesStep(inputId, outputId);\n",
              "  const outputElement = document.getElementById(outputId);\n",
              "  // Cache steps on the outputElement to make it available for the next call\n",
              "  // to uploadFilesContinue from Python.\n",
              "  outputElement.steps = steps;\n",
              "\n",
              "  return _uploadFilesContinue(outputId);\n",
              "}\n",
              "\n",
              "// This is roughly an async generator (not supported in the browser yet),\n",
              "// where there are multiple asynchronous steps and the Python side is going\n",
              "// to poll for completion of each step.\n",
              "// This uses a Promise to block the python side on completion of each step,\n",
              "// then passes the result of the previous step as the input to the next step.\n",
              "function _uploadFilesContinue(outputId) {\n",
              "  const outputElement = document.getElementById(outputId);\n",
              "  const steps = outputElement.steps;\n",
              "\n",
              "  const next = steps.next(outputElement.lastPromiseValue);\n",
              "  return Promise.resolve(next.value.promise).then((value) => {\n",
              "    // Cache the last promise value to make it available to the next\n",
              "    // step of the generator.\n",
              "    outputElement.lastPromiseValue = value;\n",
              "    return next.value.response;\n",
              "  });\n",
              "}\n",
              "\n",
              "/**\n",
              " * Generator function which is called between each async step of the upload\n",
              " * process.\n",
              " * @param {string} inputId Element ID of the input file picker element.\n",
              " * @param {string} outputId Element ID of the output display.\n",
              " * @return {!Iterable<!Object>} Iterable of next steps.\n",
              " */\n",
              "function* uploadFilesStep(inputId, outputId) {\n",
              "  const inputElement = document.getElementById(inputId);\n",
              "  inputElement.disabled = false;\n",
              "\n",
              "  const outputElement = document.getElementById(outputId);\n",
              "  outputElement.innerHTML = '';\n",
              "\n",
              "  const pickedPromise = new Promise((resolve) => {\n",
              "    inputElement.addEventListener('change', (e) => {\n",
              "      resolve(e.target.files);\n",
              "    });\n",
              "  });\n",
              "\n",
              "  const cancel = document.createElement('button');\n",
              "  inputElement.parentElement.appendChild(cancel);\n",
              "  cancel.textContent = 'Cancel upload';\n",
              "  const cancelPromise = new Promise((resolve) => {\n",
              "    cancel.onclick = () => {\n",
              "      resolve(null);\n",
              "    };\n",
              "  });\n",
              "\n",
              "  // Wait for the user to pick the files.\n",
              "  const files = yield {\n",
              "    promise: Promise.race([pickedPromise, cancelPromise]),\n",
              "    response: {\n",
              "      action: 'starting',\n",
              "    }\n",
              "  };\n",
              "\n",
              "  cancel.remove();\n",
              "\n",
              "  // Disable the input element since further picks are not allowed.\n",
              "  inputElement.disabled = true;\n",
              "\n",
              "  if (!files) {\n",
              "    return {\n",
              "      response: {\n",
              "        action: 'complete',\n",
              "      }\n",
              "    };\n",
              "  }\n",
              "\n",
              "  for (const file of files) {\n",
              "    const li = document.createElement('li');\n",
              "    li.append(span(file.name, {fontWeight: 'bold'}));\n",
              "    li.append(span(\n",
              "        `(${file.type || 'n/a'}) - ${file.size} bytes, ` +\n",
              "        `last modified: ${\n",
              "            file.lastModifiedDate ? file.lastModifiedDate.toLocaleDateString() :\n",
              "                                    'n/a'} - `));\n",
              "    const percent = span('0% done');\n",
              "    li.appendChild(percent);\n",
              "\n",
              "    outputElement.appendChild(li);\n",
              "\n",
              "    const fileDataPromise = new Promise((resolve) => {\n",
              "      const reader = new FileReader();\n",
              "      reader.onload = (e) => {\n",
              "        resolve(e.target.result);\n",
              "      };\n",
              "      reader.readAsArrayBuffer(file);\n",
              "    });\n",
              "    // Wait for the data to be ready.\n",
              "    let fileData = yield {\n",
              "      promise: fileDataPromise,\n",
              "      response: {\n",
              "        action: 'continue',\n",
              "      }\n",
              "    };\n",
              "\n",
              "    // Use a chunked sending to avoid message size limits. See b/62115660.\n",
              "    let position = 0;\n",
              "    do {\n",
              "      const length = Math.min(fileData.byteLength - position, MAX_PAYLOAD_SIZE);\n",
              "      const chunk = new Uint8Array(fileData, position, length);\n",
              "      position += length;\n",
              "\n",
              "      const base64 = btoa(String.fromCharCode.apply(null, chunk));\n",
              "      yield {\n",
              "        response: {\n",
              "          action: 'append',\n",
              "          file: file.name,\n",
              "          data: base64,\n",
              "        },\n",
              "      };\n",
              "\n",
              "      let percentDone = fileData.byteLength === 0 ?\n",
              "          100 :\n",
              "          Math.round((position / fileData.byteLength) * 100);\n",
              "      percent.textContent = `${percentDone}% done`;\n",
              "\n",
              "    } while (position < fileData.byteLength);\n",
              "  }\n",
              "\n",
              "  // All done.\n",
              "  yield {\n",
              "    response: {\n",
              "      action: 'complete',\n",
              "    }\n",
              "  };\n",
              "}\n",
              "\n",
              "scope.google = scope.google || {};\n",
              "scope.google.colab = scope.google.colab || {};\n",
              "scope.google.colab._files = {\n",
              "  _uploadFiles,\n",
              "  _uploadFilesContinue,\n",
              "};\n",
              "})(self);\n",
              "</script> "
            ]
          },
          "metadata": {}
        },
        {
          "output_type": "stream",
          "name": "stdout",
          "text": [
            "Saving hasil_cleaning_chat.csv to hasil_cleaning_chat.csv\n",
            "\n",
            "✅ File 'hasil_cleaning_chat.csv' berhasil diunggah.\n"
          ]
        }
      ]
    },
    {
      "cell_type": "code",
      "source": [
        "# Sel 3: Definisikan Fungsi Pembersihan (Versi Profesional dengan Kamus Terlengkap)\n",
        "\n",
        "def bersihkan_teks_chat(df, nama_kolom):\n",
        "    df['cleaned_message'] = df[nama_kolom].astype(str)\n",
        "    df['cleaned_message'] = df['cleaned_message'].apply(lambda x: re.sub(r'\\\\x[0-9a-fA-F]{2}', '', x))\n",
        "    df['cleaned_message'] = df['cleaned_message'].apply(lambda x: x.replace('\\u00a0', ' '))\n",
        "    df['cleaned_message'] = df['cleaned_message'].apply(lambda x: x.encode('ascii', 'ignore').decode('utf-8'))\n",
        "    df['cleaned_message'] = df['cleaned_message'].str.lower()\n",
        "    df.dropna(subset=['cleaned_message'], inplace=True)\n",
        "    df = df[df['cleaned_message'] != '']\n",
        "    df['cleaned_message'] = df['cleaned_message'].apply(lambda x: re.sub(r'[^a-zA-Z\\s]', '', x))\n",
        "    df['cleaned_message'] = df['cleaned_message'].apply(lambda x: re.sub(r'(\\w)\\1{2,}', r'\\1\\1', x))\n",
        "    df['cleaned_message'] = df['cleaned_message'].apply(lambda x: re.sub(r'(\\w)\\1+', r'\\1', x))\n",
        "\n",
        "    # --- Kamus Slang Versi Paling Lengkap (Gabungan) ---\n",
        "    kamus_slang = {\n",
        "        'apekabar': 'apa kabar', 'apakabar': 'apa kabar', 'ngapain': 'sedang apa', 'gaes': 'teman-teman',\n",
        "        'euyy': '', 'euy': '', 'yaa': 'ya', 'siapp': 'siap', 'hadirrr': 'hadir', 'okeeee': 'oke', 'oke': 'ok', 'kerjan': 'kerjaan',\n",
        "        'gass': 'gas', 'wkwk': '', 'wkwkwk': '', 'wkwkwkwk': '', 'hehe': '', 'hehehe': '', 'hm': '', 'hmm': '', 'lahm': 'lah', 'tunggal': 'tunggal', 'menyembahhyang': 'menyembah hyang', 'al': 'all',\n",
        "        'yg': 'yang', 'jgn': 'jangan', 'mkn': 'makan', 'ga': 'tidak', 'gak': 'tidak',\n",
        "        'kalo': 'kalau', 'udah': 'sudah', 'aja': 'saja', 'nih': '', 'sih': '', 'dong': '', 'pun': 'pun',\n",
        "        'user': '',\n",
        "        'bgt': 'banget', 'bangettt': 'banget', 'dgn': 'dengan', 'utk': 'untuk', 'jg': 'juga', 'juga': 'juga',\n",
        "        'blm': 'belum', 'sdh': 'sudah', 'tdk': 'tidak', 'sm': 'sama', 'lg': 'lagi', 'kpn': 'kapan', 'dr': 'dari',\n",
        "        'gw': 'saya', 'gue': 'saya', 'lu': 'kamu', 'ane': 'saya', 'engga': 'tidak', 'enggak': 'tidak', 'emang': 'memang',\n",
        "        'bener': 'benar', 'kenapa': 'kenapa', 'knp': 'kenapa', 'makasih': 'terima kasih', 'mksh': 'terima kasih', 'trus': 'terus',\n",
        "        'guys': 'teman-teman', 'wih': '', 'wah': '', 'mantap': 'mantap', 'sbb': 'maaf baru balas', 'otw': 'sedang di jalan'\n",
        "    }\n",
        "\n",
        "    def normalisasi(text):\n",
        "        words = text.split()\n",
        "        normalized_words = [kamus_slang.get(word, word) for word in words]\n",
        "        return ' '.join(normalized_words)\n",
        "    df['cleaned_message'] = df['cleaned_message'].apply(normalisasi)\n",
        "\n",
        "    df['cleaned_message'] = df['cleaned_message'].apply(lambda x: re.sub(r'\\s+', ' ', x).strip())\n",
        "    df = df[df['cleaned_message'] != '']\n",
        "    return df\n",
        "\n",
        "print(\"✅ Fungsi 'bersihkan_teks_chat' dengan kamus terlengkap berhasil dibuat.\")"
      ],
      "metadata": {
        "colab": {
          "base_uri": "https://localhost:8080/"
        },
        "id": "DZYXa5aa2EYa",
        "outputId": "f65498b8-a4dc-4613-82de-e38127bdac90"
      },
      "execution_count": null,
      "outputs": [
        {
          "output_type": "stream",
          "name": "stdout",
          "text": [
            "✅ Fungsi 'bersihkan_teks_chat' dengan kamus terlengkap berhasil dibuat.\n"
          ]
        }
      ]
    },
    {
      "cell_type": "code",
      "source": [
        "# Sel 4: Proses Inti\n",
        "\n",
        "# --- PENGATURAN ---\n",
        "# Ganti 'message' jika nama kolom di file CSV Anda berbeda\n",
        "NAMA_KOLOM_CHAT = 'chat'\n",
        "# Tentukan nama untuk file output Anda\n",
        "NAMA_FILE_OUTPUT = 'indonesian_chat_cleaned_final.csv'\n",
        "# --- SELESAI PENGATURAN ---\n",
        "\n",
        "try:\n",
        "    # Membaca file yang sudah diunggah\n",
        "    df_asli = pd.read_csv(nama_file_input)\n",
        "\n",
        "    # Menjalankan fungsi pembersihan pada data Anda\n",
        "    df_bersih = bersihkan_teks_chat(df_asli.copy(), NAMA_KOLOM_CHAT)\n",
        "\n",
        "    print(\"\\n=== PROSES SELESAI: PREVIEW HASIL CLEANING (15 Baris Pertama) ===\")\n",
        "    # Menampilkan kolom asli dan kolom yang sudah dibersihkan untuk perbandingan\n",
        "    print(df_bersih[[NAMA_KOLOM_CHAT, 'cleaned_message']].head(15))\n",
        "\n",
        "    # Menyimpan hasilnya ke file CSV baru di dalam lingkungan Colab\n",
        "    df_bersih.to_csv(NAMA_FILE_OUTPUT, index=False)\n",
        "    print(f\"\\n✅ Data bersih telah disimpan sebagai '{NAMA_FILE_OUTPUT}' di Colab.\")\n",
        "\n",
        "except Exception as e:\n",
        "    print(f\"\\nOops, terjadi error: {e}\")\n",
        "    print(\"Pastikan nama file CSV sudah benar dan nama kolom (NAMA_KOLOM_CHAT) sudah sesuai dengan file Anda.\")"
      ],
      "metadata": {
        "colab": {
          "base_uri": "https://localhost:8080/"
        },
        "id": "8qOVWMaf2JlA",
        "outputId": "c5b15fcf-742c-43f9-e148-e40ac9ac2b06"
      },
      "execution_count": null,
      "outputs": [
        {
          "output_type": "stream",
          "name": "stdout",
          "text": [
            "\n",
            "=== PROSES SELESAI: PREVIEW HASIL CLEANING (15 Baris Pertama) ===\n",
            "                                                 chat  \\\n",
            "0                                 main mu kek tai cok   \n",
            "1   user telat ngasih tau elu edan sarap gue berga...   \n",
            "2   kadang berfikir percaya tuhan jatuh berkalikal...   \n",
            "3         user user aku\\n\\nku tau matamu sipit diliat   \n",
            "4         capek deh ketemu kaum cina kapir gini match   \n",
            "5                       skill cacad ngide jungler cok   \n",
            "6                                gg main lo keren bro   \n",
            "7   gue aja kelar rewatch aldnoah zero kampret ema...   \n",
            "8   admin belanja port terbaik nak makan ai kepal ...   \n",
            "9                        user enak lg klo smbil ngewe   \n",
            "10  gw jari lu sebelom gw ukur nyali bacot lu \\xf0...   \n",
            "11  user user user user banci kaleng malu ga 2 nyu...   \n",
            "12  kalo belajar ekonomi mestinya jago memprivatis...   \n",
            "13        maennya goblok banget sih geblek banget dah   \n",
            "14  bu guru enakan jablay guru esde sih\\nkayaknya ...   \n",
            "\n",
            "                                      cleaned_message  \n",
            "0                                 main mu kek tai cok  \n",
            "1    telat ngasih tau elu edan sarap saya bergaul elu  \n",
            "2   kadang berfikir percaya tuhan jatuh berkalikal...  \n",
            "3                      akunku tau matamu sipit diliat  \n",
            "4         capek deh ketemu kaum cina kapir gini match  \n",
            "5                        skil cacad ngide jungler cok  \n",
            "6                                 g main lo keren bro  \n",
            "7   saya saja kelar rewatch aldnoah zero kampret m...  \n",
            "8   admin belanja port terbaik nak makan ai kepal ...  \n",
            "9                           enak lagi klo smbil ngewe  \n",
            "10  saya jari kamu sebelom saya ukur nyali bacot kamu  \n",
            "11           banci kaleng malu tidak nyungsep koe url  \n",
            "12  kalau belajar ekonomi mestinya jago memprivati...  \n",
            "13             maenya goblok banget geblek banget dah  \n",
            "14  bu guru enakan jablay guru esde sihnkayaknya m...  \n",
            "\n",
            "✅ Data bersih telah disimpan sebagai 'indonesian_chat_cleaned_final.csv' di Colab.\n"
          ]
        }
      ]
    },
    {
      "cell_type": "code",
      "source": [
        "# Sel 4: Proses Inti\n",
        "\n",
        "# --- PENGATURAN ---\n",
        "# Ganti 'message' jika nama kolom di file CSV Anda berbeda\n",
        "NAMA_KOLOM_CHAT = 'chat'\n",
        "# Tentukan nama untuk file output Anda\n",
        "NAMA_FILE_OUTPUT = 'indonesian_chat_cleaned_final.csv'\n",
        "# --- SELESAI PENGATURAN ---\n",
        "\n",
        "try:\n",
        "    # Membaca file yang sudah diunggah\n",
        "    df_asli = pd.read_csv(nama_file_input)\n",
        "\n",
        "    # Menjalankan fungsi pembersihan pada data Anda\n",
        "    df_bersih = bersihkan_teks_chat(df_asli.copy(), NAMA_KOLOM_CHAT)\n",
        "\n",
        "    print(\"\\n=== PROSES SELESAI: PREVIEW HASIL CLEANING (15 Baris Pertama) ===\")\n",
        "    # Menampilkan kolom asli dan kolom yang sudah dibersihkan untuk perbandingan\n",
        "    print(df_bersih[[NAMA_KOLOM_CHAT, 'cleaned_message']].head(15))\n",
        "\n",
        "    # Menyimpan hasilnya ke file CSV baru di dalam lingkungan Colab\n",
        "    df_bersih.to_csv(NAMA_FILE_OUTPUT, index=False)\n",
        "    print(f\"\\n✅ Data bersih telah disimpan sebagai '{NAMA_FILE_OUTPUT}' di Colab.\")\n",
        "\n",
        "except Exception as e:\n",
        "    print(f\"\\nOops, terjadi error: {e}\")\n",
        "    print(\"Pastikan nama file CSV sudah benar dan nama kolom (NAMA_KOLOM_CHAT) sudah sesuai dengan file Anda.\")"
      ],
      "metadata": {
        "colab": {
          "base_uri": "https://localhost:8080/"
        },
        "id": "nvK0tu7I2Vyz",
        "outputId": "8d35db26-25a2-4c3b-d17c-dd56b52088f6"
      },
      "execution_count": null,
      "outputs": [
        {
          "output_type": "stream",
          "name": "stdout",
          "text": [
            "\n",
            "=== PROSES SELESAI: PREVIEW HASIL CLEANING (15 Baris Pertama) ===\n",
            "                                                 chat  \\\n",
            "0                                 main mu kek tai cok   \n",
            "1   user telat ngasih tau elu edan sarap gue berga...   \n",
            "2   kadang berfikir percaya tuhan jatuh berkalikal...   \n",
            "3         user user aku\\n\\nku tau matamu sipit diliat   \n",
            "4         capek deh ketemu kaum cina kapir gini match   \n",
            "5                       skill cacad ngide jungler cok   \n",
            "6                                gg main lo keren bro   \n",
            "7   gue aja kelar rewatch aldnoah zero kampret ema...   \n",
            "8   admin belanja port terbaik nak makan ai kepal ...   \n",
            "9                        user enak lg klo smbil ngewe   \n",
            "10  gw jari lu sebelom gw ukur nyali bacot lu \\xf0...   \n",
            "11  user user user user banci kaleng malu ga 2 nyu...   \n",
            "12  kalo belajar ekonomi mestinya jago memprivatis...   \n",
            "13        maennya goblok banget sih geblek banget dah   \n",
            "14  bu guru enakan jablay guru esde sih\\nkayaknya ...   \n",
            "\n",
            "                                      cleaned_message  \n",
            "0                                 main mu kek tai cok  \n",
            "1    telat ngasih tau elu edan sarap saya bergaul elu  \n",
            "2   kadang berfikir percaya tuhan jatuh berkalikal...  \n",
            "3                      akunku tau matamu sipit diliat  \n",
            "4         capek deh ketemu kaum cina kapir gini match  \n",
            "5                        skil cacad ngide jungler cok  \n",
            "6                                 g main lo keren bro  \n",
            "7   saya saja kelar rewatch aldnoah zero kampret m...  \n",
            "8   admin belanja port terbaik nak makan ai kepal ...  \n",
            "9                           enak lagi klo smbil ngewe  \n",
            "10  saya jari kamu sebelom saya ukur nyali bacot kamu  \n",
            "11           banci kaleng malu tidak nyungsep koe url  \n",
            "12  kalau belajar ekonomi mestinya jago memprivati...  \n",
            "13             maenya goblok banget geblek banget dah  \n",
            "14  bu guru enakan jablay guru esde sihnkayaknya m...  \n",
            "\n",
            "✅ Data bersih telah disimpan sebagai 'indonesian_chat_cleaned_final.csv' di Colab.\n"
          ]
        }
      ]
    },
    {
      "cell_type": "code",
      "source": [
        "# Sel 5: Unduh Hasil Akhir\n",
        "\n",
        "print(f\"Menyiapkan unduhan untuk file '{NAMA_FILE_OUTPUT}'...\")\n",
        "files.download(NAMA_FILE_OUTPUT)"
      ],
      "metadata": {
        "colab": {
          "base_uri": "https://localhost:8080/",
          "height": 34
        },
        "id": "ac0gLjcU2Wgv",
        "outputId": "2f031170-c30e-4cee-a7dd-750cd10b5676"
      },
      "execution_count": null,
      "outputs": [
        {
          "output_type": "stream",
          "name": "stdout",
          "text": [
            "Menyiapkan unduhan untuk file 'indonesian_chat_cleaned_final.csv'...\n"
          ]
        },
        {
          "output_type": "display_data",
          "data": {
            "text/plain": [
              "<IPython.core.display.Javascript object>"
            ],
            "application/javascript": [
              "\n",
              "    async function download(id, filename, size) {\n",
              "      if (!google.colab.kernel.accessAllowed) {\n",
              "        return;\n",
              "      }\n",
              "      const div = document.createElement('div');\n",
              "      const label = document.createElement('label');\n",
              "      label.textContent = `Downloading \"${filename}\": `;\n",
              "      div.appendChild(label);\n",
              "      const progress = document.createElement('progress');\n",
              "      progress.max = size;\n",
              "      div.appendChild(progress);\n",
              "      document.body.appendChild(div);\n",
              "\n",
              "      const buffers = [];\n",
              "      let downloaded = 0;\n",
              "\n",
              "      const channel = await google.colab.kernel.comms.open(id);\n",
              "      // Send a message to notify the kernel that we're ready.\n",
              "      channel.send({})\n",
              "\n",
              "      for await (const message of channel.messages) {\n",
              "        // Send a message to notify the kernel that we're ready.\n",
              "        channel.send({})\n",
              "        if (message.buffers) {\n",
              "          for (const buffer of message.buffers) {\n",
              "            buffers.push(buffer);\n",
              "            downloaded += buffer.byteLength;\n",
              "            progress.value = downloaded;\n",
              "          }\n",
              "        }\n",
              "      }\n",
              "      const blob = new Blob(buffers, {type: 'application/binary'});\n",
              "      const a = document.createElement('a');\n",
              "      a.href = window.URL.createObjectURL(blob);\n",
              "      a.download = filename;\n",
              "      div.appendChild(a);\n",
              "      a.click();\n",
              "      div.remove();\n",
              "    }\n",
              "  "
            ]
          },
          "metadata": {}
        },
        {
          "output_type": "display_data",
          "data": {
            "text/plain": [
              "<IPython.core.display.Javascript object>"
            ],
            "application/javascript": [
              "download(\"download_8296bec7-7176-4cdf-8e0e-b90fd19e6f7f\", \"indonesian_chat_cleaned_final.csv\", 1510648)"
            ]
          },
          "metadata": {}
        }
      ]
    }
  ]
}