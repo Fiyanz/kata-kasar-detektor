{
 "cells": [
  {
   "metadata": {},
   "cell_type": "markdown",
   "source": [
    "# Get data from kaggle\n",
    "link : https://www.kaggle.com/datasets/jprestiliano/indonesian-chat-dataset/data\n",
    "\n",
    "## Setup Kaggle API\n",
    "1. Download kaggle api pada halaman profile\n",
    "2. pindahkan ke folder `.config/kaggle/` untuk sistem operasi linux\n",
    "3. kemudian buka terminal dan run command ini `chmod 600 /home/{$USER}/.config/kaggle/kaggle.json`"
   ],
   "id": "de96b7ab69359f8d"
  },
  {
   "metadata": {
    "ExecuteTime": {
     "end_time": "2025-09-09T09:10:36.772018Z",
     "start_time": "2025-09-09T09:10:36.649465Z"
    }
   },
   "cell_type": "code",
   "source": [
    "import os\n",
    "from kaggle.api.kaggle_api_extended import KaggleApi"
   ],
   "id": "38285783cb3fd59f",
   "outputs": [],
   "execution_count": 1
  },
  {
   "metadata": {
    "ExecuteTime": {
     "end_time": "2025-09-09T09:10:58.298792Z",
     "start_time": "2025-09-09T09:10:56.348483Z"
    }
   },
   "cell_type": "code",
   "source": [
    "api = KaggleApi()\n",
    "api.authenticate()\n",
    "\n",
    "api.dataset_download_files(\"jprestiliano/indonesian-chat-dataset\", path=\"../data\", unzip=True)\n",
    "print(\"Data berhasil di download!!\")"
   ],
   "id": "16644e1c068561ec",
   "outputs": [
    {
     "name": "stdout",
     "output_type": "stream",
     "text": [
      "Dataset URL: https://www.kaggle.com/datasets/jprestiliano/indonesian-chat-dataset\n",
      "Data berhasil di download!!\n"
     ]
    }
   ],
   "execution_count": 3
  }
 ],
 "metadata": {
  "kernelspec": {
   "display_name": "Python 3",
   "language": "python",
   "name": "python3"
  },
  "language_info": {
   "codemirror_mode": {
    "name": "ipython",
    "version": 2
   },
   "file_extension": ".py",
   "mimetype": "text/x-python",
   "name": "python",
   "nbconvert_exporter": "python",
   "pygments_lexer": "ipython2",
   "version": "2.7.6"
  }
 },
 "nbformat": 4,
 "nbformat_minor": 5
}
